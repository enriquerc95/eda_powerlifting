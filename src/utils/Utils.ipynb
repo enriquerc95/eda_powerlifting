{
 "cells": [
  {
   "cell_type": "markdown",
   "metadata": {},
   "source": [
    "Librerías importadas"
   ]
  },
  {
   "cell_type": "code",
   "execution_count": null,
   "metadata": {},
   "outputs": [],
   "source": [
    "import numpy as np\n",
    "import pandas as pd\n",
    "import matplotlib.pyplot as plt\n",
    "import seaborn as sns\n",
    "import squarify"
   ]
  },
  {
   "cell_type": "markdown",
   "metadata": {},
   "source": [
    "### Código para obtener los 10 atletas más fuertes de cada sexo en SBD (competición de los tres movimientos)"
   ]
  },
  {
   "cell_type": "code",
   "execution_count": null,
   "metadata": {},
   "outputs": [],
   "source": [
    "top_men = df_p[df_p['Sex'] == 'M'].nlargest(28, 'Goodlift')\n",
    "top_men['Event'] = 'SBD'\n",
    "\n",
    "top_women = df_p[df_p['Sex'] == 'F'].nlargest(10, 'Goodlift')\n",
    "top_women['Event'] = 'SBD'\n",
    "\n",
    "top_men = top_men.drop_duplicates(subset='Name', keep='first') # Eliminar duplicados \n",
    "top_women = top_women.drop_duplicates(subset='Name', keep='first') \n",
    "\n",
    "print(\"Top 10 Hombres con Goodlift más alto:\")\n",
    "top_men[['Name', 'Goodlift', 'Event']]\n",
    "\n",
    "top_women = df_p[df_p['Sex'] == 'F'].nlargest(10, 'Goodlift')\n",
    "\n",
    "top_women['Event'] = 'SBD'\n",
    "\n",
    "\n",
    "print(\"Top 10 Mujeres con Goodlift más alto:\")\n",
    "top_women[['Name', 'Goodlift', 'Event']]"
   ]
  },
  {
   "cell_type": "markdown",
   "metadata": {},
   "source": [
    "Representarlos en gráficas:"
   ]
  },
  {
   "cell_type": "code",
   "execution_count": null,
   "metadata": {},
   "outputs": [],
   "source": [
    "plt.figure(figsize=(12, 6)) \n",
    "\n",
    "plt.subplot(1, 2, 1)\n",
    "plt.barh(top_men['Name'], top_men['Goodlift'], color='skyblue')\n",
    "plt.xlabel('Goodlift')\n",
    "plt.title('Top 10 Hombres con Goodlift más alto')\n",
    "\n",
    "plt.subplot(1, 2, 2)\n",
    "plt.barh(top_women['Name'], top_women['Goodlift'], color='salmon', alpha = 0.5)\n",
    "plt.xlabel('Goodlift')\n",
    "plt.title('Top 10 Mujeres con Goodlift más alto')\n",
    "\n",
    "plt.tight_layout()\n",
    "plt.show()"
   ]
  },
  {
   "cell_type": "markdown",
   "metadata": {},
   "source": [
    "Código y gráfica para sacar la gráficaque compara los Godlifts y los tres movimientos en atletas masculinos y femeninos"
   ]
  },
  {
   "cell_type": "code",
   "execution_count": null,
   "metadata": {},
   "outputs": [],
   "source": [
    "columns_to_keep = ['Name', 'Squat1Kg', 'Squat2Kg', 'Squat3Kg',\n",
    "                   'Bench1Kg', 'Bench2Kg', 'Bench3Kg',\n",
    "                   'Deadlift1Kg', 'Deadlift2Kg', 'Deadlift3Kg', 'Goodlift', 'Sex']\n",
    "\n",
    "df_power_lifts = df_p[columns_to_keep]\n",
    "\n",
    "df_power_lifts['Squat_max'] = df_power_lifts[['Squat1Kg', 'Squat2Kg', 'Squat3Kg']].max(axis=1) # Obtener el valor máximo de los tres intentos de squat, bench y deadlift\n",
    "df_power_lifts['Bench_max'] = df_power_lifts[['Bench1Kg', 'Bench2Kg', 'Bench3Kg']].max(axis=1)\n",
    "df_power_lifts['Deadlift_max'] = df_power_lifts[['Deadlift1Kg', 'Deadlift2Kg', 'Deadlift3Kg']].max(axis=1)\n",
    "\n",
    "\n",
    "top_men = df_power_lifts[df_power_lifts['Sex'] == 'M'].nlargest(10, ['Squat_max', 'Bench_max', 'Deadlift_max']) # Filtrar y obtener los atletas con los máximos levantamientos de cada sexo.\n",
    "top_women = df_power_lifts[df_power_lifts['Sex'] == 'F'].nlargest(10, ['Squat_max', 'Bench_max', 'Deadlift_max'])\n",
    "\n",
    "\n",
    "fig, axs = plt.subplots(nrows=1, ncols=2, figsize=(15, 8))\n",
    "\n",
    "axs[0].barh(top_men['Name'], top_men['Goodlift'], color='purple', label='Goodlift')\n",
    "axs[0].barh(top_men['Name'], top_men['Squat_max'], color='orange', alpha=0.3, label='Squat Max')\n",
    "axs[0].barh(top_men['Name'], top_men['Bench_max'], color='lightgreen', alpha=0.8, label='Bench Max')\n",
    "axs[0].barh(top_men['Name'], top_men['Deadlift_max'], color='skyblue', alpha=0.8, label='Deadlift Max')\n",
    "axs[0].set_ylabel('Atletas')\n",
    "axs[0].set_xlabel('Kilogramos')\n",
    "axs[0].set_title('Top 6 Hombres: Goodlift vs Max Levantamientos')\n",
    "\n",
    "axs[1].barh(top_women['Name'], top_women['Goodlift'], color='black', alpha=1, label='Goodlift')\n",
    "axs[1].barh(top_women['Name'], top_women['Squat_max'], color='orange', alpha=0.3, label='Squat Max')\n",
    "axs[1].barh(top_women['Name'], top_women['Bench_max'], color='lightgreen', alpha=0.8, label='Bench Max')\n",
    "axs[1].barh(top_women['Name'], top_women['Deadlift_max'], color='skyblue', alpha=0.8, label='Deadlift Max')\n",
    "axs[1].set_ylabel('Atletas')\n",
    "axs[1].set_xlabel('Kilogramos')\n",
    "axs[1].set_title('Top 6 Mujeres: Goodlift vs Max Levantamientos')\n",
    "axs[1].legend()\n",
    "\n",
    "plt.tight_layout()\n",
    "plt.show()"
   ]
  },
  {
   "cell_type": "markdown",
   "metadata": {},
   "source": [
    "Función para ver los 10 primeros competidores y sus marcas"
   ]
  },
  {
   "cell_type": "code",
   "execution_count": null,
   "metadata": {},
   "outputs": [],
   "source": [
    "def top_unique_names_with_total(df_p, sex, n):\n",
    "    columns_to_show = ['Squat1Kg', 'Squat2Kg', 'Squat3Kg', 'Bench1Kg', 'Bench2Kg', 'Bench3Kg', 'Deadlift1Kg', 'Deadlift2Kg', 'Deadlift3Kg']\n",
    "    \n",
    "    top_sex = df_p[(df_p['Sex'] == sex) & (df_p['Equipment'] == 'Raw')].nlargest(n, 'Goodlift')\n",
    "    unique_names = top_sex['Name'].unique()\n",
    "    top_unique = top_sex[top_sex['Name'].isin(unique_names)]\n",
    "    top_unique_no_duplicates = top_unique.drop_duplicates(subset='Name')\n",
    "    return top_unique_no_duplicates[['Name', 'Goodlift', 'TotalKg'] + columns_to_show]\n",
    "\n",
    "\n",
    "top_men_unique = top_unique_names_with_total(df_p, 'M', 30)\n",
    "top_women_unique = top_unique_names_with_total(df_p, 'F', 25)\n",
    "df_top_men = pd.DataFrame(top_men_unique)\n",
    "df_top_women = pd.DataFrame(top_women_unique)"
   ]
  },
  {
   "cell_type": "markdown",
   "metadata": {},
   "source": [
    "Esta función para ver que los atletas de élite más ligeros, pueden tener incluso más fuerza que los pesados en algunos movimientos según el peso corporal.\n",
    "No la usé finalmente"
   ]
  },
  {
   "cell_type": "code",
   "execution_count": null,
   "metadata": {},
   "outputs": [],
   "source": [
    "def mostrar_info(df, n):\n",
    "    top_n = df.nlargest(n, 'Goodlift')\n",
    "    info = top_n[['Name', 'Goodlift', 'BodyweightKg', 'Squat3Kg', 'Bench3Kg', 'Deadlift3Kg']]\n",
    "\n",
    "   \n",
    "    info['Squat_BW_ratio'] = info['Squat3Kg'] / info['BodyweightKg']  # Calcular la cantidad de veces que levanta su peso corporal en cada ejercicio\n",
    "    info['Bench_BW_ratio'] = info['Bench3Kg'] / info['BodyweightKg']\n",
    "    info['Deadlift_BW_ratio'] = info['Deadlift3Kg'] / info['BodyweightKg']\n",
    "    \n",
    "  \n",
    "    info = info.drop_duplicates(subset='Name')\n",
    "    \n",
    "    return info "
   ]
  },
  {
   "cell_type": "markdown",
   "metadata": {},
   "source": [
    "Añadir los ratios a las columnas del df, calculando la media y luego el ratio del peso corporal en la primera"
   ]
  },
  {
   "cell_type": "code",
   "execution_count": null,
   "metadata": {},
   "outputs": [],
   "source": [
    "\n",
    "df_p['Squat_mean'] = df_p[['Squat1Kg', 'Squat2Kg', 'Squat3Kg']].mean(axis=1) # Calcular la media de los movimientos por atleta\n",
    "df_p['Bench_mean'] = df_p[['Bench1Kg', 'Bench2Kg', 'Bench3Kg']].mean(axis=1)\n",
    "df_p['Deadlift_mean'] = df_p[['Deadlift1Kg', 'Deadlift2Kg', 'Deadlift3Kg']].mean(axis=1)\n",
    "\n",
    "\n",
    "\n",
    "df_p['Squat_BW_ratio'] = df_p[['Squat1Kg', 'Squat2Kg', 'Squat3Kg']].mean(axis=1) / df_p['BodyweightKg']# Calcular el ratio del peso corporal para cada movimiento\n",
    "df_p['Bench_BW_ratio'] = df_p[['Bench1Kg', 'Bench2Kg', 'Bench3Kg']].mean(axis=1) / df_p['BodyweightKg']\n",
    "df_p['Deadlift_BW_ratio'] = df_p[['Deadlift1Kg', 'Deadlift2Kg', 'Deadlift3Kg']].mean(axis=1) / df_p['BodyweightKg']\n",
    "\n",
    "# Convertir valores negativos a 0 en las columnas de ratio\n",
    "df_p[['Squat_BW_ratio', 'Bench_BW_ratio', 'Deadlift_BW_ratio']] = df_p[['Squat_BW_ratio', 'Bench_BW_ratio', 'Deadlift_BW_ratio']].applymap(lambda x: max(0, x))"
   ]
  },
  {
   "cell_type": "markdown",
   "metadata": {},
   "source": [
    "Representar ratios en la gráfica"
   ]
  },
  {
   "cell_type": "code",
   "execution_count": null,
   "metadata": {},
   "outputs": [],
   "source": [
    "top_10_ratios = selected_data.nlargest(7, 'Deadlift_BW_ratio') # Seleccionar los datos de los atletas con los ratios más altos\n",
    "\n",
    "fig, ax = plt.subplots(figsize=(10, 8))\n",
    "\n",
    "\n",
    "bars = ax.bar(top_10_ratios['Name'], top_10_ratios['Deadlift_BW_ratio'], color='blue')\n",
    "\n",
    "ax.set_xlabel('Atletas')\n",
    "ax.set_ylabel('Ratio Deadlift (Peso Levantado / Peso Corporal)')\n",
    "ax.set_title('Ejemplo atletas con Mayor Ratio Deadlift')\n",
    "\n",
    "\n",
    "for i, bar in enumerate(bars): # Mostrar el peso corporal y el ratio encima de cada barra\n",
    "    ax.text(bar.get_x() + bar.get_width() / 2, bar.get_height(), f\"{top_10_ratios['BodyweightKg'].iloc[i]}kg\",\n",
    "            ha='center', va='bottom')\n",
    "    ax.text(bar.get_x() + bar.get_width() / 2, bar.get_height() - 0.1 * bar.get_height(),\n",
    "            round(bar.get_height(), 2), ha='center', va='bottom')\n",
    "\n",
    "# Ajustar diseño\n",
    "plt.xticks(rotation=90)\n",
    "plt.tight_layout()\n",
    "plt.show()"
   ]
  },
  {
   "cell_type": "markdown",
   "metadata": {},
   "source": [
    "Código para ver  el promedio de Goodlifts por año"
   ]
  },
  {
   "cell_type": "code",
   "execution_count": null,
   "metadata": {},
   "outputs": [],
   "source": [
    "df_p['Year'] = df_p['Date'].dt.year # Extraemos el año de la columna 'Date'\n",
    "\n",
    "\n",
    "promedio_gl_por_año = df_p.groupby('Year', 'Division' == 'Open')['Goodlift'].mean() # Calcular el promedio de Goodlift por añoa través de la media\n",
    "\n",
    "\n",
    "plt.figure(figsize=(10, 6))\n",
    "promedio_gl_por_año.plot(kind='bar', color='skyblue')\n",
    "plt.xlabel('Año')\n",
    "plt.ylabel('Goodlift Promedio')\n",
    "plt.title('Promedio Anual de Goodlift')\n",
    "plt.xticks(rotation=45)\n",
    "plt.grid(axis='y')\n",
    "plt.show()"
   ]
  },
  {
   "cell_type": "markdown",
   "metadata": {},
   "source": [
    "Ver la relación entre edad y kilos movidos por cada atleta"
   ]
  },
  {
   "cell_type": "code",
   "execution_count": null,
   "metadata": {},
   "outputs": [],
   "source": [
    "df_open = df_p[df_p['Division'] == 'Open'] #seleccionamos la categoría OPEN\n",
    "\n",
    "plt.figure(figsize=(12, 6))\n",
    "sns.scatterplot(x='Age', y='TotalKg', data=df_open, hue='TotalKg', size='TotalKg', sizes=(20, 200))\n",
    "plt.xlabel('Edad del Atleta')\n",
    "plt.ylabel('Total de Kilogramos Levantados')\n",
    "plt.title('Kilogramos Levantados vs Edad del Atleta (Categoría Open)')\n",
    "plt.legend(title='Kg levantados')\n",
    "plt.show()"
   ]
  }
 ],
 "metadata": {
  "kernelspec": {
   "display_name": "Python 3",
   "language": "python",
   "name": "python3"
  },
  "language_info": {
   "name": "python",
   "version": "3.10.11"
  }
 },
 "nbformat": 4,
 "nbformat_minor": 2
}
